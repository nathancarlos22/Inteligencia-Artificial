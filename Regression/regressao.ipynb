{
  "nbformat": 4,
  "nbformat_minor": 0,
  "metadata": {
    "colab": {
      "name": "regressao.ipynb",
      "provenance": [],
      "collapsed_sections": []
    },
    "kernelspec": {
      "name": "python3",
      "display_name": "Python 3"
    }
  },
  "cells": [
    {
      "cell_type": "code",
      "metadata": {
        "id": "MoZiuGcvmEe3",
        "colab_type": "code",
        "colab": {}
      },
      "source": [
        "import pandas as pd\n",
        "import numpy as np\n",
        "import matplotlib.pyplot as plt\n",
        "\n",
        "from sklearn import preprocessing\n",
        "from sklearn.preprocessing import RobustScaler\n",
        "from sklearn.decomposition import PCA"
      ],
      "execution_count": 0,
      "outputs": []
    },
    {
      "cell_type": "markdown",
      "metadata": {
        "id": "yOuWjhsulBQ0",
        "colab_type": "text"
      },
      "source": [
        "# **Lendo arquivo**"
      ]
    },
    {
      "cell_type": "code",
      "metadata": {
        "id": "g4lZK6B0mivL",
        "colab_type": "code",
        "colab": {}
      },
      "source": [
        "DATA_PATH = '/content/Metro_Interstate_Traffic_Volume.csv'"
      ],
      "execution_count": 0,
      "outputs": []
    },
    {
      "cell_type": "code",
      "metadata": {
        "id": "7T1mjwVQm4Pw",
        "colab_type": "code",
        "outputId": "83590916-fe0f-4ed5-f6c9-bb31695bdf07",
        "colab": {
          "base_uri": "https://localhost:8080/",
          "height": 779
        }
      },
      "source": [
        "df = pd.read_csv(DATA_PATH)\n",
        "df"
      ],
      "execution_count": 0,
      "outputs": [
        {
          "output_type": "execute_result",
          "data": {
            "text/html": [
              "<div>\n",
              "<style scoped>\n",
              "    .dataframe tbody tr th:only-of-type {\n",
              "        vertical-align: middle;\n",
              "    }\n",
              "\n",
              "    .dataframe tbody tr th {\n",
              "        vertical-align: top;\n",
              "    }\n",
              "\n",
              "    .dataframe thead th {\n",
              "        text-align: right;\n",
              "    }\n",
              "</style>\n",
              "<table border=\"1\" class=\"dataframe\">\n",
              "  <thead>\n",
              "    <tr style=\"text-align: right;\">\n",
              "      <th></th>\n",
              "      <th>holiday</th>\n",
              "      <th>temp</th>\n",
              "      <th>rain_1h</th>\n",
              "      <th>snow_1h</th>\n",
              "      <th>clouds_all</th>\n",
              "      <th>weather_main</th>\n",
              "      <th>weather_description</th>\n",
              "      <th>date_time</th>\n",
              "      <th>traffic_volume</th>\n",
              "    </tr>\n",
              "  </thead>\n",
              "  <tbody>\n",
              "    <tr>\n",
              "      <th>0</th>\n",
              "      <td>None</td>\n",
              "      <td>288.28</td>\n",
              "      <td>0.0</td>\n",
              "      <td>0.0</td>\n",
              "      <td>40</td>\n",
              "      <td>Clouds</td>\n",
              "      <td>scattered clouds</td>\n",
              "      <td>2012-10-02 09:00:00</td>\n",
              "      <td>5545</td>\n",
              "    </tr>\n",
              "    <tr>\n",
              "      <th>1</th>\n",
              "      <td>None</td>\n",
              "      <td>289.36</td>\n",
              "      <td>0.0</td>\n",
              "      <td>0.0</td>\n",
              "      <td>75</td>\n",
              "      <td>Clouds</td>\n",
              "      <td>broken clouds</td>\n",
              "      <td>2012-10-02 10:00:00</td>\n",
              "      <td>4516</td>\n",
              "    </tr>\n",
              "    <tr>\n",
              "      <th>2</th>\n",
              "      <td>None</td>\n",
              "      <td>289.58</td>\n",
              "      <td>0.0</td>\n",
              "      <td>0.0</td>\n",
              "      <td>90</td>\n",
              "      <td>Clouds</td>\n",
              "      <td>overcast clouds</td>\n",
              "      <td>2012-10-02 11:00:00</td>\n",
              "      <td>4767</td>\n",
              "    </tr>\n",
              "    <tr>\n",
              "      <th>3</th>\n",
              "      <td>None</td>\n",
              "      <td>290.13</td>\n",
              "      <td>0.0</td>\n",
              "      <td>0.0</td>\n",
              "      <td>90</td>\n",
              "      <td>Clouds</td>\n",
              "      <td>overcast clouds</td>\n",
              "      <td>2012-10-02 12:00:00</td>\n",
              "      <td>5026</td>\n",
              "    </tr>\n",
              "    <tr>\n",
              "      <th>4</th>\n",
              "      <td>None</td>\n",
              "      <td>291.14</td>\n",
              "      <td>0.0</td>\n",
              "      <td>0.0</td>\n",
              "      <td>75</td>\n",
              "      <td>Clouds</td>\n",
              "      <td>broken clouds</td>\n",
              "      <td>2012-10-02 13:00:00</td>\n",
              "      <td>4918</td>\n",
              "    </tr>\n",
              "    <tr>\n",
              "      <th>...</th>\n",
              "      <td>...</td>\n",
              "      <td>...</td>\n",
              "      <td>...</td>\n",
              "      <td>...</td>\n",
              "      <td>...</td>\n",
              "      <td>...</td>\n",
              "      <td>...</td>\n",
              "      <td>...</td>\n",
              "      <td>...</td>\n",
              "    </tr>\n",
              "    <tr>\n",
              "      <th>48199</th>\n",
              "      <td>None</td>\n",
              "      <td>283.45</td>\n",
              "      <td>0.0</td>\n",
              "      <td>0.0</td>\n",
              "      <td>75</td>\n",
              "      <td>Clouds</td>\n",
              "      <td>broken clouds</td>\n",
              "      <td>2018-09-30 19:00:00</td>\n",
              "      <td>3543</td>\n",
              "    </tr>\n",
              "    <tr>\n",
              "      <th>48200</th>\n",
              "      <td>None</td>\n",
              "      <td>282.76</td>\n",
              "      <td>0.0</td>\n",
              "      <td>0.0</td>\n",
              "      <td>90</td>\n",
              "      <td>Clouds</td>\n",
              "      <td>overcast clouds</td>\n",
              "      <td>2018-09-30 20:00:00</td>\n",
              "      <td>2781</td>\n",
              "    </tr>\n",
              "    <tr>\n",
              "      <th>48201</th>\n",
              "      <td>None</td>\n",
              "      <td>282.73</td>\n",
              "      <td>0.0</td>\n",
              "      <td>0.0</td>\n",
              "      <td>90</td>\n",
              "      <td>Thunderstorm</td>\n",
              "      <td>proximity thunderstorm</td>\n",
              "      <td>2018-09-30 21:00:00</td>\n",
              "      <td>2159</td>\n",
              "    </tr>\n",
              "    <tr>\n",
              "      <th>48202</th>\n",
              "      <td>None</td>\n",
              "      <td>282.09</td>\n",
              "      <td>0.0</td>\n",
              "      <td>0.0</td>\n",
              "      <td>90</td>\n",
              "      <td>Clouds</td>\n",
              "      <td>overcast clouds</td>\n",
              "      <td>2018-09-30 22:00:00</td>\n",
              "      <td>1450</td>\n",
              "    </tr>\n",
              "    <tr>\n",
              "      <th>48203</th>\n",
              "      <td>None</td>\n",
              "      <td>282.12</td>\n",
              "      <td>0.0</td>\n",
              "      <td>0.0</td>\n",
              "      <td>90</td>\n",
              "      <td>Clouds</td>\n",
              "      <td>overcast clouds</td>\n",
              "      <td>2018-09-30 23:00:00</td>\n",
              "      <td>954</td>\n",
              "    </tr>\n",
              "  </tbody>\n",
              "</table>\n",
              "<p>48204 rows × 9 columns</p>\n",
              "</div>"
            ],
            "text/plain": [
              "      holiday    temp  ...            date_time  traffic_volume\n",
              "0        None  288.28  ...  2012-10-02 09:00:00            5545\n",
              "1        None  289.36  ...  2012-10-02 10:00:00            4516\n",
              "2        None  289.58  ...  2012-10-02 11:00:00            4767\n",
              "3        None  290.13  ...  2012-10-02 12:00:00            5026\n",
              "4        None  291.14  ...  2012-10-02 13:00:00            4918\n",
              "...       ...     ...  ...                  ...             ...\n",
              "48199    None  283.45  ...  2018-09-30 19:00:00            3543\n",
              "48200    None  282.76  ...  2018-09-30 20:00:00            2781\n",
              "48201    None  282.73  ...  2018-09-30 21:00:00            2159\n",
              "48202    None  282.09  ...  2018-09-30 22:00:00            1450\n",
              "48203    None  282.12  ...  2018-09-30 23:00:00             954\n",
              "\n",
              "[48204 rows x 9 columns]"
            ]
          },
          "metadata": {
            "tags": []
          },
          "execution_count": 28
        }
      ]
    },
    {
      "cell_type": "markdown",
      "metadata": {
        "id": "opu22fmVlKRG",
        "colab_type": "text"
      },
      "source": [
        "# **Pré-processamento**"
      ]
    },
    {
      "cell_type": "code",
      "metadata": {
        "id": "r4uP6Dvfyv5M",
        "colab_type": "code",
        "outputId": "117420d7-b542-4a66-8bbc-f7a9058dafac",
        "colab": {
          "base_uri": "https://localhost:8080/",
          "height": 439
        }
      },
      "source": [
        "#transformar atributos qualitativos em quantitativos\n",
        "le = preprocessing.LabelEncoder() \n",
        "for column in df.columns:\n",
        "    if df[column].dtypes == 'object':\n",
        "        df[column] = le.fit_transform(df[column])\n",
        "\n",
        "df"
      ],
      "execution_count": 0,
      "outputs": [
        {
          "output_type": "execute_result",
          "data": {
            "text/html": [
              "<div>\n",
              "<style scoped>\n",
              "    .dataframe tbody tr th:only-of-type {\n",
              "        vertical-align: middle;\n",
              "    }\n",
              "\n",
              "    .dataframe tbody tr th {\n",
              "        vertical-align: top;\n",
              "    }\n",
              "\n",
              "    .dataframe thead th {\n",
              "        text-align: right;\n",
              "    }\n",
              "</style>\n",
              "<table border=\"1\" class=\"dataframe\">\n",
              "  <thead>\n",
              "    <tr style=\"text-align: right;\">\n",
              "      <th></th>\n",
              "      <th>holiday</th>\n",
              "      <th>temp</th>\n",
              "      <th>rain_1h</th>\n",
              "      <th>snow_1h</th>\n",
              "      <th>clouds_all</th>\n",
              "      <th>weather_main</th>\n",
              "      <th>weather_description</th>\n",
              "      <th>date_time</th>\n",
              "      <th>traffic_volume</th>\n",
              "    </tr>\n",
              "  </thead>\n",
              "  <tbody>\n",
              "    <tr>\n",
              "      <th>0</th>\n",
              "      <td>7</td>\n",
              "      <td>288.28</td>\n",
              "      <td>0.0</td>\n",
              "      <td>0.0</td>\n",
              "      <td>40</td>\n",
              "      <td>1</td>\n",
              "      <td>24</td>\n",
              "      <td>0</td>\n",
              "      <td>5545</td>\n",
              "    </tr>\n",
              "    <tr>\n",
              "      <th>1</th>\n",
              "      <td>7</td>\n",
              "      <td>289.36</td>\n",
              "      <td>0.0</td>\n",
              "      <td>0.0</td>\n",
              "      <td>75</td>\n",
              "      <td>1</td>\n",
              "      <td>2</td>\n",
              "      <td>1</td>\n",
              "      <td>4516</td>\n",
              "    </tr>\n",
              "    <tr>\n",
              "      <th>2</th>\n",
              "      <td>7</td>\n",
              "      <td>289.58</td>\n",
              "      <td>0.0</td>\n",
              "      <td>0.0</td>\n",
              "      <td>90</td>\n",
              "      <td>1</td>\n",
              "      <td>19</td>\n",
              "      <td>2</td>\n",
              "      <td>4767</td>\n",
              "    </tr>\n",
              "    <tr>\n",
              "      <th>3</th>\n",
              "      <td>7</td>\n",
              "      <td>290.13</td>\n",
              "      <td>0.0</td>\n",
              "      <td>0.0</td>\n",
              "      <td>90</td>\n",
              "      <td>1</td>\n",
              "      <td>19</td>\n",
              "      <td>3</td>\n",
              "      <td>5026</td>\n",
              "    </tr>\n",
              "    <tr>\n",
              "      <th>4</th>\n",
              "      <td>7</td>\n",
              "      <td>291.14</td>\n",
              "      <td>0.0</td>\n",
              "      <td>0.0</td>\n",
              "      <td>75</td>\n",
              "      <td>1</td>\n",
              "      <td>2</td>\n",
              "      <td>4</td>\n",
              "      <td>4918</td>\n",
              "    </tr>\n",
              "    <tr>\n",
              "      <th>...</th>\n",
              "      <td>...</td>\n",
              "      <td>...</td>\n",
              "      <td>...</td>\n",
              "      <td>...</td>\n",
              "      <td>...</td>\n",
              "      <td>...</td>\n",
              "      <td>...</td>\n",
              "      <td>...</td>\n",
              "      <td>...</td>\n",
              "    </tr>\n",
              "    <tr>\n",
              "      <th>48199</th>\n",
              "      <td>7</td>\n",
              "      <td>283.45</td>\n",
              "      <td>0.0</td>\n",
              "      <td>0.0</td>\n",
              "      <td>75</td>\n",
              "      <td>1</td>\n",
              "      <td>2</td>\n",
              "      <td>40570</td>\n",
              "      <td>3543</td>\n",
              "    </tr>\n",
              "    <tr>\n",
              "      <th>48200</th>\n",
              "      <td>7</td>\n",
              "      <td>282.76</td>\n",
              "      <td>0.0</td>\n",
              "      <td>0.0</td>\n",
              "      <td>90</td>\n",
              "      <td>1</td>\n",
              "      <td>19</td>\n",
              "      <td>40571</td>\n",
              "      <td>2781</td>\n",
              "    </tr>\n",
              "    <tr>\n",
              "      <th>48201</th>\n",
              "      <td>7</td>\n",
              "      <td>282.73</td>\n",
              "      <td>0.0</td>\n",
              "      <td>0.0</td>\n",
              "      <td>90</td>\n",
              "      <td>10</td>\n",
              "      <td>21</td>\n",
              "      <td>40572</td>\n",
              "      <td>2159</td>\n",
              "    </tr>\n",
              "    <tr>\n",
              "      <th>48202</th>\n",
              "      <td>7</td>\n",
              "      <td>282.09</td>\n",
              "      <td>0.0</td>\n",
              "      <td>0.0</td>\n",
              "      <td>90</td>\n",
              "      <td>1</td>\n",
              "      <td>19</td>\n",
              "      <td>40573</td>\n",
              "      <td>1450</td>\n",
              "    </tr>\n",
              "    <tr>\n",
              "      <th>48203</th>\n",
              "      <td>7</td>\n",
              "      <td>282.12</td>\n",
              "      <td>0.0</td>\n",
              "      <td>0.0</td>\n",
              "      <td>90</td>\n",
              "      <td>1</td>\n",
              "      <td>19</td>\n",
              "      <td>40574</td>\n",
              "      <td>954</td>\n",
              "    </tr>\n",
              "  </tbody>\n",
              "</table>\n",
              "<p>48204 rows × 9 columns</p>\n",
              "</div>"
            ],
            "text/plain": [
              "       holiday    temp  rain_1h  ...  weather_description  date_time  traffic_volume\n",
              "0            7  288.28      0.0  ...                   24          0            5545\n",
              "1            7  289.36      0.0  ...                    2          1            4516\n",
              "2            7  289.58      0.0  ...                   19          2            4767\n",
              "3            7  290.13      0.0  ...                   19          3            5026\n",
              "4            7  291.14      0.0  ...                    2          4            4918\n",
              "...        ...     ...      ...  ...                  ...        ...             ...\n",
              "48199        7  283.45      0.0  ...                    2      40570            3543\n",
              "48200        7  282.76      0.0  ...                   19      40571            2781\n",
              "48201        7  282.73      0.0  ...                   21      40572            2159\n",
              "48202        7  282.09      0.0  ...                   19      40573            1450\n",
              "48203        7  282.12      0.0  ...                   19      40574             954\n",
              "\n",
              "[48204 rows x 9 columns]"
            ]
          },
          "metadata": {
            "tags": []
          },
          "execution_count": 29
        }
      ]
    },
    {
      "cell_type": "code",
      "metadata": {
        "id": "KZPYDNDR_rBa",
        "colab_type": "code",
        "outputId": "e26f04b2-b79f-41bd-e577-c06fea35a889",
        "colab": {
          "base_uri": "https://localhost:8080/",
          "height": 34
        }
      },
      "source": [
        "X = df.iloc[:, 0:8]\n",
        "y = df.iloc[:, 8]\n",
        "\n",
        "X.shape, y.shape"
      ],
      "execution_count": 0,
      "outputs": [
        {
          "output_type": "execute_result",
          "data": {
            "text/plain": [
              "((48204, 8), (48204,))"
            ]
          },
          "metadata": {
            "tags": []
          },
          "execution_count": 30
        }
      ]
    },
    {
      "cell_type": "markdown",
      "metadata": {
        "id": "2lZgJEANlSO-",
        "colab_type": "text"
      },
      "source": [
        "# **Kfold com predição em Naive Bayes**"
      ]
    },
    {
      "cell_type": "code",
      "metadata": {
        "id": "-8jhjjeEKxy2",
        "colab_type": "code",
        "outputId": "697e1bb6-4eba-40aa-aa43-a10937d1013b",
        "colab": {
          "base_uri": "https://localhost:8080/",
          "height": 187
        }
      },
      "source": [
        "from sklearn.model_selection import KFold\n",
        "from sklearn.naive_bayes import GaussianNB\n",
        "from sklearn.model_selection import train_test_split\n",
        "\n",
        "kf = KFold(n_splits=10, random_state=0, shuffle=True) \n",
        "X_train, X_test, y_train, y_test = train_test_split(X, y, test_size=0.3, train_size=0.7, random_state=None) \n",
        "\n",
        "gnb = GaussianNB()\n",
        "\n",
        "for train_index, test_index in kf.split(X):\n",
        "  X_train, X_test = X.iloc[train_index], X.iloc[test_index]\n",
        "  y_train, y_test = y.iloc[train_index], y.iloc[test_index]\n",
        "\n",
        "  y_pred = gnb.fit(X_train, y_train).predict(X_test)\n",
        "\n",
        "  print(\"Numero de pontos incorretos de um total %d pontos : %d\" % (X_test.shape[0], (y_test != y_pred).sum()))"
      ],
      "execution_count": 0,
      "outputs": [
        {
          "output_type": "stream",
          "text": [
            "Numero de pontos incorretos de um total 4821 pontos : 4810\n",
            "Numero de pontos incorretos de um total 4821 pontos : 4816\n",
            "Numero de pontos incorretos de um total 4821 pontos : 4813\n",
            "Numero de pontos incorretos de um total 4821 pontos : 4811\n",
            "Numero de pontos incorretos de um total 4820 pontos : 4808\n",
            "Numero de pontos incorretos de um total 4820 pontos : 4807\n",
            "Numero de pontos incorretos de um total 4820 pontos : 4813\n",
            "Numero de pontos incorretos de um total 4820 pontos : 4803\n",
            "Numero de pontos incorretos de um total 4820 pontos : 4807\n",
            "Numero de pontos incorretos de um total 4820 pontos : 4807\n"
          ],
          "name": "stdout"
        }
      ]
    },
    {
      "cell_type": "code",
      "metadata": {
        "id": "AQ2hHwIDRfx6",
        "colab_type": "code",
        "outputId": "d664364d-a2c9-4487-c8ba-94e480d61122",
        "cellView": "form",
        "colab": {
          "base_uri": "https://localhost:8080/",
          "height": 187
        }
      },
      "source": [
        "#@title Rodando mais uma vez para obter outros resultados\n",
        "kf = KFold(n_splits=10, random_state=1, shuffle=True)\n",
        "\n",
        "gnb = GaussianNB()\n",
        "X_train, X_test, y_train, y_test = train_test_split(X, y, test_size=0.3, train_size=0.7, random_state=None) \n",
        "\n",
        "for train_index, test_index in kf.split(X):\n",
        "  X_train, X_test = X.iloc[train_index], X.iloc[test_index]\n",
        "  y_train, y_test = y.iloc[train_index], y.iloc[test_index]\n",
        "\n",
        "  y_pred = gnb.fit(X_train, y_train).predict(X_test)\n",
        "\n",
        "  print(\"Número de pontos incorretos de um total %d pontos : %d\" % (X_test.shape[0], (y_test != y_pred).sum()))"
      ],
      "execution_count": 0,
      "outputs": [
        {
          "output_type": "stream",
          "text": [
            "Número de pontos incorretos de um total 4821 pontos : 4805\n",
            "Número de pontos incorretos de um total 4821 pontos : 4810\n",
            "Número de pontos incorretos de um total 4821 pontos : 4809\n",
            "Número de pontos incorretos de um total 4821 pontos : 4816\n",
            "Número de pontos incorretos de um total 4820 pontos : 4812\n",
            "Número de pontos incorretos de um total 4820 pontos : 4813\n",
            "Número de pontos incorretos de um total 4820 pontos : 4813\n",
            "Número de pontos incorretos de um total 4820 pontos : 4808\n",
            "Número de pontos incorretos de um total 4820 pontos : 4813\n",
            "Número de pontos incorretos de um total 4820 pontos : 4811\n"
          ],
          "name": "stdout"
        }
      ]
    },
    {
      "cell_type": "markdown",
      "metadata": {
        "id": "Cn1SKXGhH_H9",
        "colab_type": "text"
      },
      "source": [
        "# **Kfold com predição por árvore de decisão**"
      ]
    },
    {
      "cell_type": "code",
      "metadata": {
        "id": "dl8_Qq0vxRb9",
        "colab_type": "code",
        "outputId": "6d501e38-68b1-4f43-8dc5-f8f38ab2af30",
        "colab": {
          "base_uri": "https://localhost:8080/",
          "height": 187
        }
      },
      "source": [
        "from sklearn import tree\n",
        "\n",
        "kf = KFold(n_splits=10, random_state=1, shuffle=True)\n",
        "clf = tree.DecisionTreeRegressor()\n",
        "\n",
        "X_train, X_test, y_train, y_test = train_test_split(X, y, test_size=0.3, train_size=0.7, random_state=1) \n",
        "\n",
        "for train_index, test_index in kf.split(X):\n",
        "  X_train, X_test = X.iloc[train_index], X.iloc[test_index]\n",
        "  y_train, y_test = y.iloc[train_index], y.iloc[test_index]\n",
        "\n",
        "  y_pred = clf.fit(X_train, y_train).predict(X_test)\n",
        "\n",
        "  print(\"Numero de pontos incorretos de um total %d pontos : %d\" % (X_test.shape[0], (y_test != y_pred).sum()))"
      ],
      "execution_count": 0,
      "outputs": [
        {
          "output_type": "stream",
          "text": [
            "Numero de pontos incorretos de um total 4821 pontos : 4069\n",
            "Numero de pontos incorretos de um total 4821 pontos : 4089\n",
            "Numero de pontos incorretos de um total 4821 pontos : 4187\n",
            "Numero de pontos incorretos de um total 4821 pontos : 4277\n",
            "Numero de pontos incorretos de um total 4820 pontos : 4152\n",
            "Numero de pontos incorretos de um total 4820 pontos : 4070\n",
            "Numero de pontos incorretos de um total 4820 pontos : 4173\n",
            "Numero de pontos incorretos de um total 4820 pontos : 4151\n",
            "Numero de pontos incorretos de um total 4820 pontos : 4316\n",
            "Numero de pontos incorretos de um total 4820 pontos : 4028\n"
          ],
          "name": "stdout"
        }
      ]
    },
    {
      "cell_type": "code",
      "metadata": {
        "id": "_IK54ALyx87U",
        "colab_type": "code",
        "cellView": "form",
        "outputId": "37e82887-d290-4af6-a7db-9354ea24f524",
        "colab": {
          "base_uri": "https://localhost:8080/",
          "height": 187
        }
      },
      "source": [
        "#@title Rodando mais uma vez \n",
        "kf = KFold(n_splits=10, random_state=1, shuffle=True)\n",
        "clf = tree.DecisionTreeRegressor()\n",
        "\n",
        "X_train, X_test, y_train, y_test = train_test_split(X, y, test_size=0.3, train_size=0.7, random_state=1) \n",
        "\n",
        "for train_index, test_index in kf.split(X):\n",
        "  X_train, X_test = X.iloc[train_index], X.iloc[test_index]\n",
        "  y_train, y_test = y.iloc[train_index], y.iloc[test_index]\n",
        "\n",
        "  y_pred = clf.fit(X_train, y_train).predict(X_test)\n",
        "\n",
        "  print(\"numero de pontos incorretos de um total %d pontos : %d\" % (X_test.shape[0], (y_test != y_pred).sum()))"
      ],
      "execution_count": 0,
      "outputs": [
        {
          "output_type": "stream",
          "text": [
            "numero de pontos incorretos de um total 4821 pontos : 4075\n",
            "numero de pontos incorretos de um total 4821 pontos : 4087\n",
            "numero de pontos incorretos de um total 4821 pontos : 4192\n",
            "numero de pontos incorretos de um total 4821 pontos : 4277\n",
            "numero de pontos incorretos de um total 4820 pontos : 4134\n",
            "numero de pontos incorretos de um total 4820 pontos : 4065\n",
            "numero de pontos incorretos de um total 4820 pontos : 4162\n",
            "numero de pontos incorretos de um total 4820 pontos : 4141\n",
            "numero de pontos incorretos de um total 4820 pontos : 4319\n",
            "numero de pontos incorretos de um total 4820 pontos : 4035\n"
          ],
          "name": "stdout"
        }
      ]
    },
    {
      "cell_type": "code",
      "metadata": {
        "id": "nBnqT_qflv-6",
        "colab_type": "code",
        "colab": {}
      },
      "source": [
        ""
      ],
      "execution_count": 0,
      "outputs": []
    }
  ]
}